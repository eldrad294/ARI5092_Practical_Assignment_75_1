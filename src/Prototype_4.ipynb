{
 "cells": [
  {
   "cell_type": "code",
   "execution_count": 25,
   "metadata": {},
   "outputs": [],
   "source": [
    "from bs4 import BeautifulSoup as bs\n",
    "from bs4.element import Tag\n",
    "import codecs\n",
    "\n",
    "# Read data file and parse the XML\n",
    "with codecs.open(\"D:\\\\Projects\\\\ARI5121_NLP\\\\75\\\\data\\\\n3_collection_master\\\\reuters.xml\", \"r\", \"utf-8\") as infile:\n",
    "    soup = bs(infile, \"html5lib\")\n",
    "\n",
    "docs = []\n",
    "for elem in soup.find_all(\"document\"):\n",
    "    texts = []\n",
    "\n",
    "    # Loop through each child of the element under \"textwithnamedentities\"\n",
    "    for c in elem.find(\"textwithnamedentities\").children:\n",
    "        if type(c) == Tag:\n",
    "            if c.name == \"namedentityintext\":\n",
    "                label = \"N\"  # part of a named entity\n",
    "            else:\n",
    "                label = \"I\"  # irrelevant word\n",
    "            for w in c.text.split(\" \"):\n",
    "                if len(w) > 0:\n",
    "                    texts.append((w, label))\n",
    "    docs.append(texts)"
   ]
  },
  {
   "cell_type": "code",
   "execution_count": 26,
   "metadata": {},
   "outputs": [],
   "source": [
    "import nltk\n",
    "data = []\n",
    "for i, doc in enumerate(docs):\n",
    "\n",
    "    # Obtain the list of tokens in the document\n",
    "    tokens = [t for t, label in doc]\n",
    "\n",
    "    # Perform POS tagging\n",
    "    tagged = nltk.pos_tag(tokens)\n",
    "\n",
    "    # Take the word, POS tag, and its label\n",
    "    data.append([(w, pos, label) for (w, label), (word, pos) in zip(doc, tagged)])"
   ]
  },
  {
   "cell_type": "code",
   "execution_count": 27,
   "metadata": {},
   "outputs": [],
   "source": [
    "def word2features(doc, i):\n",
    "    word = doc[i][0]\n",
    "    postag = doc[i][1]\n",
    "\n",
    "    # Common features for all words\n",
    "    features = [\n",
    "        'bias',\n",
    "        'word.lower=' + word.lower(),\n",
    "        'word[-3:]=' + word[-3:],\n",
    "        'word[-2:]=' + word[-2:],\n",
    "        'word.isupper=%s' % word.isupper(),\n",
    "        'word.istitle=%s' % word.istitle(),\n",
    "        'word.isdigit=%s' % word.isdigit(),\n",
    "        'postag=' + postag\n",
    "    ]\n",
    "\n",
    "    # Features for words that are not\n",
    "    # at the beginning of a document\n",
    "    if i > 0:\n",
    "        word1 = doc[i-1][0]\n",
    "        postag1 = doc[i-1][1]\n",
    "        features.extend([\n",
    "            '-1:word.lower=' + word1.lower(),\n",
    "            '-1:word.istitle=%s' % word1.istitle(),\n",
    "            '-1:word.isupper=%s' % word1.isupper(),\n",
    "            '-1:word.isdigit=%s' % word1.isdigit(),\n",
    "            '-1:postag=' + postag1\n",
    "        ])\n",
    "    else:\n",
    "        # Indicate that it is the 'beginning of a document'\n",
    "        features.append('BOS')\n",
    "\n",
    "    # Features for words that are not\n",
    "    # at the end of a document\n",
    "    if i < len(doc)-1:\n",
    "        word1 = doc[i+1][0]\n",
    "        postag1 = doc[i+1][1]\n",
    "        features.extend([\n",
    "            '+1:word.lower=' + word1.lower(),\n",
    "            '+1:word.istitle=%s' % word1.istitle(),\n",
    "            '+1:word.isupper=%s' % word1.isupper(),\n",
    "            '+1:word.isdigit=%s' % word1.isdigit(),\n",
    "            '+1:postag=' + postag1\n",
    "        ])\n",
    "    else:\n",
    "        # Indicate that it is the 'end of a document'\n",
    "        features.append('EOS')\n",
    "\n",
    "    return features"
   ]
  },
  {
   "cell_type": "code",
   "execution_count": 28,
   "metadata": {},
   "outputs": [],
   "source": [
    "from sklearn.model_selection import train_test_split\n",
    "\n",
    "# A function for extracting features in documents\n",
    "def extract_features(doc):\n",
    "    return [word2features(doc, i) for i in range(len(doc))]\n",
    "\n",
    "# A function fo generating the list of labels for each document\n",
    "def get_labels(doc):\n",
    "    return [label for (token, postag, label) in doc]\n",
    "\n",
    "X = [extract_features(doc) for doc in data]\n",
    "y = [get_labels(doc) for doc in data]\n",
    "\n",
    "X_train, X_test, y_train, y_test = train_test_split(X, y, test_size=0.2)"
   ]
  },
  {
   "cell_type": "code",
   "execution_count": 30,
   "metadata": {
    "scrolled": false
   },
   "outputs": [
    {
     "name": "stdout",
     "output_type": "stream",
     "text": [
      "[[['bias', 'word.lower=nantucket', 'word[-3:]=ket', 'word[-2:]=et', 'word.isupper=False', 'word.istitle=True', 'word.isdigit=False', 'postag=NNP', 'BOS', '+1:word.lower=industries', '+1:word.istitle=True', '+1:word.isupper=False', '+1:word.isdigit=False', '+1:postag=NNPS'], ['bias', 'word.lower=industries', 'word[-3:]=ies', 'word[-2:]=es', 'word.isupper=False', 'word.istitle=True', 'word.isdigit=False', 'postag=NNPS', '-1:word.lower=nantucket', '-1:word.istitle=True', '-1:word.isupper=False', '-1:word.isdigit=False', '-1:postag=NNP', '+1:word.lower=inc', '+1:word.istitle=True', '+1:word.isupper=False', '+1:word.isdigit=False', '+1:postag=NNP'], ['bias', 'word.lower=inc', 'word[-3:]=Inc', 'word[-2:]=nc', 'word.isupper=False', 'word.istitle=True', 'word.isdigit=False', 'postag=NNP', '-1:word.lower=industries', '-1:word.istitle=True', '-1:word.isupper=False', '-1:word.isdigit=False', '-1:postag=NNPS', '+1:word.lower=said', '+1:word.istitle=False', '+1:word.isupper=False', '+1:word.isdigit=False', '+1:postag=VBD'], ['bias', 'word.lower=said', 'word[-3:]=aid', 'word[-2:]=id', 'word.isupper=False', 'word.istitle=False', 'word.isdigit=False', 'postag=VBD', '-1:word.lower=inc', '-1:word.istitle=True', '-1:word.isupper=False', '-1:word.isdigit=False', '-1:postag=NNP', '+1:word.lower=james', '+1:word.istitle=True', '+1:word.isupper=False', '+1:word.isdigit=False', '+1:postag=NNP'], ['bias', 'word.lower=james', 'word[-3:]=mes', 'word[-2:]=es', 'word.isupper=False', 'word.istitle=True', 'word.isdigit=False', 'postag=NNP', '-1:word.lower=said', '-1:word.istitle=False', '-1:word.isupper=False', '-1:word.isdigit=False', '-1:postag=VBD', '+1:word.lower=adams', '+1:word.istitle=True', '+1:word.isupper=False', '+1:word.isdigit=False', '+1:postag=NNP'], ['bias', 'word.lower=adams', 'word[-3:]=ams', 'word[-2:]=ms', 'word.isupper=False', 'word.istitle=True', 'word.isdigit=False', 'postag=NNP', '-1:word.lower=james', '-1:word.istitle=True', '-1:word.isupper=False', '-1:word.isdigit=False', '-1:postag=NNP', '+1:word.lower=has', '+1:word.istitle=False', '+1:word.isupper=False', '+1:word.isdigit=False', '+1:postag=VBZ'], ['bias', 'word.lower=has', 'word[-3:]=has', 'word[-2:]=as', 'word.isupper=False', 'word.istitle=False', 'word.isdigit=False', 'postag=VBZ', '-1:word.lower=adams', '-1:word.istitle=True', '-1:word.isupper=False', '-1:word.isdigit=False', '-1:postag=NNP', '+1:word.lower=been', '+1:word.istitle=False', '+1:word.isupper=False', '+1:word.isdigit=False', '+1:postag=VBN'], ['bias', 'word.lower=been', 'word[-3:]=een', 'word[-2:]=en', 'word.isupper=False', 'word.istitle=False', 'word.isdigit=False', 'postag=VBN', '-1:word.lower=has', '-1:word.istitle=False', '-1:word.isupper=False', '-1:word.isdigit=False', '-1:postag=VBZ', '+1:word.lower=named', '+1:word.istitle=False', '+1:word.isupper=False', '+1:word.isdigit=False', '+1:postag=VBN'], ['bias', 'word.lower=named', 'word[-3:]=med', 'word[-2:]=ed', 'word.isupper=False', 'word.istitle=False', 'word.isdigit=False', 'postag=VBN', '-1:word.lower=been', '-1:word.istitle=False', '-1:word.isupper=False', '-1:word.isdigit=False', '-1:postag=VBN', '+1:word.lower=president', '+1:word.istitle=False', '+1:word.isupper=False', '+1:word.isdigit=False', '+1:postag=NN'], ['bias', 'word.lower=president', 'word[-3:]=ent', 'word[-2:]=nt', 'word.isupper=False', 'word.istitle=False', 'word.isdigit=False', 'postag=NN', '-1:word.lower=named', '-1:word.istitle=False', '-1:word.isupper=False', '-1:word.isdigit=False', '-1:postag=VBN', '+1:word.lower=of', '+1:word.istitle=False', '+1:word.isupper=False', '+1:word.isdigit=False', '+1:postag=IN'], ['bias', 'word.lower=of', 'word[-3:]=of', 'word[-2:]=of', 'word.isupper=False', 'word.istitle=False', 'word.isdigit=False', 'postag=IN', '-1:word.lower=president', '-1:word.istitle=False', '-1:word.isupper=False', '-1:word.isdigit=False', '-1:postag=NN', '+1:word.lower=its', '+1:word.istitle=False', '+1:word.isupper=False', '+1:word.isdigit=False', '+1:postag=PRP$'], ['bias', 'word.lower=its', 'word[-3:]=its', 'word[-2:]=ts', 'word.isupper=False', 'word.istitle=False', 'word.isdigit=False', 'postag=PRP$', '-1:word.lower=of', '-1:word.istitle=False', '-1:word.isupper=False', '-1:word.isdigit=False', '-1:postag=IN', '+1:word.lower=hosiery', '+1:word.istitle=False', '+1:word.isupper=False', '+1:word.isdigit=False', '+1:postag=NN'], ['bias', 'word.lower=hosiery', 'word[-3:]=ery', 'word[-2:]=ry', 'word.isupper=False', 'word.istitle=False', 'word.isdigit=False', 'postag=NN', '-1:word.lower=its', '-1:word.istitle=False', '-1:word.isupper=False', '-1:word.isdigit=False', '-1:postag=PRP$', '+1:word.lower=division,', '+1:word.istitle=False', '+1:word.isupper=False', '+1:word.isdigit=False', '+1:postag=NN'], ['bias', 'word.lower=division,', 'word[-3:]=on,', 'word[-2:]=n,', 'word.isupper=False', 'word.istitle=False', 'word.isdigit=False', 'postag=NN', '-1:word.lower=hosiery', '-1:word.istitle=False', '-1:word.isupper=False', '-1:word.isdigit=False', '-1:postag=NN', '+1:word.lower=replacing', '+1:word.istitle=False', '+1:word.isupper=False', '+1:word.isdigit=False', '+1:postag=VBG'], ['bias', 'word.lower=replacing', 'word[-3:]=ing', 'word[-2:]=ng', 'word.isupper=False', 'word.istitle=False', 'word.isdigit=False', 'postag=VBG', '-1:word.lower=division,', '-1:word.istitle=False', '-1:word.isupper=False', '-1:word.isdigit=False', '-1:postag=NN', '+1:word.lower=john', '+1:word.istitle=True', '+1:word.isupper=False', '+1:word.isdigit=False', '+1:postag=NNP'], ['bias', 'word.lower=john', 'word[-3:]=ohn', 'word[-2:]=hn', 'word.isupper=False', 'word.istitle=True', 'word.isdigit=False', 'postag=NNP', '-1:word.lower=replacing', '-1:word.istitle=False', '-1:word.isupper=False', '-1:word.isdigit=False', '-1:postag=VBG', '+1:word.lower=wineapple', '+1:word.istitle=True', '+1:word.isupper=False', '+1:word.isdigit=False', '+1:postag=NNP'], ['bias', 'word.lower=wineapple', 'word[-3:]=ple', 'word[-2:]=le', 'word.isupper=False', 'word.istitle=True', 'word.isdigit=False', 'postag=NNP', '-1:word.lower=john', '-1:word.istitle=True', '-1:word.isupper=False', '-1:word.isdigit=False', '-1:postag=NNP', '+1:word.lower=,', '+1:word.istitle=False', '+1:word.isupper=False', '+1:word.isdigit=False', '+1:postag=,'], ['bias', 'word.lower=,', 'word[-3:]=,', 'word[-2:]=,', 'word.isupper=False', 'word.istitle=False', 'word.isdigit=False', 'postag=,', '-1:word.lower=wineapple', '-1:word.istitle=True', '-1:word.isupper=False', '-1:word.isdigit=False', '-1:postag=NNP', '+1:word.lower=and', '+1:word.istitle=False', '+1:word.isupper=False', '+1:word.isdigit=False', '+1:postag=CC'], ['bias', 'word.lower=and', 'word[-3:]=and', 'word[-2:]=nd', 'word.isupper=False', 'word.istitle=False', 'word.isdigit=False', 'postag=CC', '-1:word.lower=,', '-1:word.istitle=False', '-1:word.isupper=False', '-1:word.isdigit=False', '-1:postag=,', '+1:word.lower=terry', '+1:word.istitle=True', '+1:word.isupper=False', '+1:word.isdigit=False', '+1:postag=NNP'], ['bias', 'word.lower=terry', 'word[-3:]=rry', 'word[-2:]=ry', 'word.isupper=False', 'word.istitle=True', 'word.isdigit=False', 'postag=NNP', '-1:word.lower=and', '-1:word.istitle=False', '-1:word.isupper=False', '-1:word.isdigit=False', '-1:postag=CC', '+1:word.lower=hampton', '+1:word.istitle=True', '+1:word.isupper=False', '+1:word.isdigit=False', '+1:postag=NNP'], ['bias', 'word.lower=hampton', 'word[-3:]=ton', 'word[-2:]=on', 'word.isupper=False', 'word.istitle=True', 'word.isdigit=False', 'postag=NNP', '-1:word.lower=terry', '-1:word.istitle=True', '-1:word.isupper=False', '-1:word.isdigit=False', '-1:postag=NNP', '+1:word.lower=has', '+1:word.istitle=False', '+1:word.isupper=False', '+1:word.isdigit=False', '+1:postag=VBZ'], ['bias', 'word.lower=has', 'word[-3:]=has', 'word[-2:]=as', 'word.isupper=False', 'word.istitle=False', 'word.isdigit=False', 'postag=VBZ', '-1:word.lower=hampton', '-1:word.istitle=True', '-1:word.isupper=False', '-1:word.isdigit=False', '-1:postag=NNP', '+1:word.lower=been', '+1:word.istitle=False', '+1:word.isupper=False', '+1:word.isdigit=False', '+1:postag=VBN'], ['bias', 'word.lower=been', 'word[-3:]=een', 'word[-2:]=en', 'word.isupper=False', 'word.istitle=False', 'word.isdigit=False', 'postag=VBN', '-1:word.lower=has', '-1:word.istitle=False', '-1:word.isupper=False', '-1:word.isdigit=False', '-1:postag=VBZ', '+1:word.lower=named', '+1:word.istitle=False', '+1:word.isupper=False', '+1:word.isdigit=False', '+1:postag=VBN'], ['bias', 'word.lower=named', 'word[-3:]=med', 'word[-2:]=ed', 'word.isupper=False', 'word.istitle=False', 'word.isdigit=False', 'postag=VBN', '-1:word.lower=been', '-1:word.istitle=False', '-1:word.isupper=False', '-1:word.isdigit=False', '-1:postag=VBN', '+1:word.lower=vice', '+1:word.istitle=False', '+1:word.isupper=False', '+1:word.isdigit=False', '+1:postag=NN'], ['bias', 'word.lower=vice', 'word[-3:]=ice', 'word[-2:]=ce', 'word.isupper=False', 'word.istitle=False', 'word.isdigit=False', 'postag=NN', '-1:word.lower=named', '-1:word.istitle=False', '-1:word.isupper=False', '-1:word.isdigit=False', '-1:postag=VBN', '+1:word.lower=president', '+1:word.istitle=False', '+1:word.isupper=False', '+1:word.isdigit=False', '+1:postag=NN'], ['bias', 'word.lower=president', 'word[-3:]=ent', 'word[-2:]=nt', 'word.isupper=False', 'word.istitle=False', 'word.isdigit=False', 'postag=NN', '-1:word.lower=vice', '-1:word.istitle=False', '-1:word.isupper=False', '-1:word.isdigit=False', '-1:postag=NN', '+1:word.lower=of', '+1:word.istitle=False', '+1:word.isupper=False', '+1:word.isdigit=False', '+1:postag=IN'], ['bias', 'word.lower=of', 'word[-3:]=of', 'word[-2:]=of', 'word.isupper=False', 'word.istitle=False', 'word.isdigit=False', 'postag=IN', '-1:word.lower=president', '-1:word.istitle=False', '-1:word.isupper=False', '-1:word.isdigit=False', '-1:postag=NN', '+1:word.lower=manufacturing', '+1:word.istitle=False', '+1:word.isupper=False', '+1:word.isdigit=False', '+1:postag=NN'], ['bias', 'word.lower=manufacturing', 'word[-3:]=ing', 'word[-2:]=ng', 'word.isupper=False', 'word.istitle=False', 'word.isdigit=False', 'postag=NN', '-1:word.lower=of', '-1:word.istitle=False', '-1:word.isupper=False', '-1:word.isdigit=False', '-1:postag=IN', '+1:word.lower=for', '+1:word.istitle=False', '+1:word.isupper=False', '+1:word.isdigit=False', '+1:postag=IN'], ['bias', 'word.lower=for', 'word[-3:]=for', 'word[-2:]=or', 'word.isupper=False', 'word.istitle=False', 'word.isdigit=False', 'postag=IN', '-1:word.lower=manufacturing', '-1:word.istitle=False', '-1:word.isupper=False', '-1:word.isdigit=False', '-1:postag=NN', '+1:word.lower=the', '+1:word.istitle=False', '+1:word.isupper=False', '+1:word.isdigit=False', '+1:postag=DT'], ['bias', 'word.lower=the', 'word[-3:]=the', 'word[-2:]=he', 'word.isupper=False', 'word.istitle=False', 'word.isdigit=False', 'postag=DT', '-1:word.lower=for', '-1:word.istitle=False', '-1:word.isupper=False', '-1:word.isdigit=False', '-1:postag=IN', '+1:word.lower=division,', '+1:word.istitle=False', '+1:word.isupper=False', '+1:word.isdigit=False', '+1:postag=NN'], ['bias', 'word.lower=division,', 'word[-3:]=on,', 'word[-2:]=n,', 'word.isupper=False', 'word.istitle=False', 'word.isdigit=False', 'postag=NN', '-1:word.lower=the', '-1:word.istitle=False', '-1:word.isupper=False', '-1:word.isdigit=False', '-1:postag=DT', '+1:word.lower=replacing', '+1:word.istitle=False', '+1:word.isupper=False', '+1:word.isdigit=False', '+1:postag=VBG'], ['bias', 'word.lower=replacing', 'word[-3:]=ing', 'word[-2:]=ng', 'word.isupper=False', 'word.istitle=False', 'word.isdigit=False', 'postag=VBG', '-1:word.lower=division,', '-1:word.istitle=False', '-1:word.isupper=False', '-1:word.isdigit=False', '-1:postag=NN', '+1:word.lower=howard', '+1:word.istitle=True', '+1:word.isupper=False', '+1:word.isdigit=False', '+1:postag=NNP'], ['bias', 'word.lower=howard', 'word[-3:]=ard', 'word[-2:]=rd', 'word.isupper=False', 'word.istitle=True', 'word.isdigit=False', 'postag=NNP', '-1:word.lower=replacing', '-1:word.istitle=False', '-1:word.isupper=False', '-1:word.isdigit=False', '-1:postag=VBG', '+1:word.lower=fromkin', '+1:word.istitle=True', '+1:word.isupper=False', '+1:word.isdigit=False', '+1:postag=NNP'], ['bias', 'word.lower=fromkin', 'word[-3:]=kin', 'word[-2:]=in', 'word.isupper=False', 'word.istitle=True', 'word.isdigit=False', 'postag=NNP', '-1:word.lower=howard', '-1:word.istitle=True', '-1:word.isupper=False', '-1:word.isdigit=False', '-1:postag=NNP', '+1:word.lower=.', '+1:word.istitle=False', '+1:word.isupper=False', '+1:word.isdigit=False', '+1:postag=.'], ['bias', 'word.lower=.', 'word[-3:]=.', 'word[-2:]=.', 'word.isupper=False', 'word.istitle=False', 'word.isdigit=False', 'postag=.', '-1:word.lower=fromkin', '-1:word.istitle=True', '-1:word.isupper=False', '-1:word.isdigit=False', '-1:postag=NNP', '+1:word.lower=no', '+1:word.istitle=True', '+1:word.isupper=False', '+1:word.isdigit=False', '+1:postag=DT'], ['bias', 'word.lower=no', 'word[-3:]=No', 'word[-2:]=No', 'word.isupper=False', 'word.istitle=True', 'word.isdigit=False', 'postag=DT', '-1:word.lower=.', '-1:word.istitle=False', '-1:word.isupper=False', '-1:word.isdigit=False', '-1:postag=.', '+1:word.lower=reason', '+1:word.istitle=False', '+1:word.isupper=False', '+1:word.isdigit=False', '+1:postag=NN'], ['bias', 'word.lower=reason', 'word[-3:]=son', 'word[-2:]=on', 'word.isupper=False', 'word.istitle=False', 'word.isdigit=False', 'postag=NN', '-1:word.lower=no', '-1:word.istitle=True', '-1:word.isupper=False', '-1:word.isdigit=False', '-1:postag=DT', '+1:word.lower=was', '+1:word.istitle=False', '+1:word.isupper=False', '+1:word.isdigit=False', '+1:postag=VBD'], ['bias', 'word.lower=was', 'word[-3:]=was', 'word[-2:]=as', 'word.isupper=False', 'word.istitle=False', 'word.isdigit=False', 'postag=VBD', '-1:word.lower=reason', '-1:word.istitle=False', '-1:word.isupper=False', '-1:word.isdigit=False', '-1:postag=NN', '+1:word.lower=given', '+1:word.istitle=False', '+1:word.isupper=False', '+1:word.isdigit=False', '+1:postag=VBN'], ['bias', 'word.lower=given', 'word[-3:]=ven', 'word[-2:]=en', 'word.isupper=False', 'word.istitle=False', 'word.isdigit=False', 'postag=VBN', '-1:word.lower=was', '-1:word.istitle=False', '-1:word.isupper=False', '-1:word.isdigit=False', '-1:postag=VBD', '+1:word.lower=for', '+1:word.istitle=False', '+1:word.isupper=False', '+1:word.isdigit=False', '+1:postag=IN'], ['bias', 'word.lower=for', 'word[-3:]=for', 'word[-2:]=or', 'word.isupper=False', 'word.istitle=False', 'word.isdigit=False', 'postag=IN', '-1:word.lower=given', '-1:word.istitle=False', '-1:word.isupper=False', '-1:word.isdigit=False', '-1:postag=VBN', '+1:word.lower=the', '+1:word.istitle=False', '+1:word.isupper=False', '+1:word.isdigit=False', '+1:postag=DT'], ['bias', 'word.lower=the', 'word[-3:]=the', 'word[-2:]=he', 'word.isupper=False', 'word.istitle=False', 'word.isdigit=False', 'postag=DT', '-1:word.lower=for', '-1:word.istitle=False', '-1:word.isupper=False', '-1:word.isdigit=False', '-1:postag=IN', '+1:word.lower=changes.', '+1:word.istitle=False', '+1:word.isupper=False', '+1:word.isdigit=False', '+1:postag=NN'], ['bias', 'word.lower=changes.', 'word[-3:]=es.', 'word[-2:]=s.', 'word.isupper=False', 'word.istitle=False', 'word.isdigit=False', 'postag=NN', '-1:word.lower=the', '-1:word.istitle=False', '-1:word.isupper=False', '-1:word.isdigit=False', '-1:postag=DT', 'EOS']]]\n",
      "[['N', 'N', 'N', 'I', 'N', 'N', 'I', 'I', 'I', 'I', 'I', 'I', 'I', 'I', 'I', 'N', 'N', 'I', 'I', 'N', 'N', 'I', 'I', 'I', 'I', 'I', 'I', 'I', 'I', 'I', 'I', 'I', 'N', 'N', 'I', 'I', 'I', 'I', 'I', 'I', 'I', 'I']]\n"
     ]
    }
   ],
   "source": [
    "import pycrfsuite\n",
    "trainer = pycrfsuite.Trainer(verbose=False)\n",
    "\n",
    "# Submit training data to the trainer\n",
    "print(X_train[:1])\n",
    "print(y_train[:1])\n",
    "for xseq, yseq in zip(X_train, y_train):\n",
    "    trainer.append(xseq, yseq)\n",
    "\n",
    "# Set the parameters of the model\n",
    "trainer.set_params({\n",
    "    # coefficient for L1 penalty\n",
    "    'c1': 0.1,\n",
    "\n",
    "    # coefficient for L2 penalty\n",
    "    'c2': 0.01,  \n",
    "\n",
    "    # maximum number of iterations\n",
    "    'max_iterations': 200,\n",
    "\n",
    "    # whether to include transitions that\n",
    "    # are possible, but not observed\n",
    "    'feature.possible_transitions': True\n",
    "})\n",
    "\n",
    "# Provide a file name as a parameter to the train function, such that\n",
    "# the model will be saved to the file when training is finished\n",
    "trainer.train('prototype_4.model')"
   ]
  }
 ],
 "metadata": {
  "kernelspec": {
   "display_name": "Python 3",
   "language": "python",
   "name": "python3"
  },
  "language_info": {
   "codemirror_mode": {
    "name": "ipython",
    "version": 3
   },
   "file_extension": ".py",
   "mimetype": "text/x-python",
   "name": "python",
   "nbconvert_exporter": "python",
   "pygments_lexer": "ipython3",
   "version": "3.6.3"
  }
 },
 "nbformat": 4,
 "nbformat_minor": 2
}
